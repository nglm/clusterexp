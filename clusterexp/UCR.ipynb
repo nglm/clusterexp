{
 "cells": [
  {
   "cell_type": "code",
   "execution_count": 1,
   "metadata": {},
   "outputs": [],
   "source": [
    "import pandas as pd\n",
    "import numpy as np\n",
    "import os\n",
    "import re\n",
    "\n",
    "from utils import (\n",
    "    write_list_datasets, PATH_UCR_LOCAL, ILL_FORMATED, ILL_FORMATED_DIR,\n",
    "    get_fname, process_labels, get_data_labels_UCR, print_heads,\n",
    "    UNKNOWN_K, TOO_MANY_LABELS, TOO_MANY_SAMPLES, INVALID\n",
    ")"
   ]
  },
  {
   "cell_type": "code",
   "execution_count": null,
   "metadata": {},
   "outputs": [],
   "source": [
    "DATA_SOURCE = \"UCR\"\n",
    "RES_DIR = f'../res/{DATA_SOURCE}/'\n",
    "PATH_UCR = PATH_UCR_LOCAL"
   ]
  },
  {
   "cell_type": "markdown",
   "metadata": {},
   "source": [
    "## Save list and headers of all original datasets"
   ]
  },
  {
   "cell_type": "code",
   "execution_count": null,
   "metadata": {},
   "outputs": [],
   "source": [
    "# Find all TRAIN files\n",
    "# This gives the folder. Each folder d has the following structure\n",
    "# - {d}/{d}_TRAIN.tsv\n",
    "# - {d}/{d}_TEST.tsv\n",
    "# - {d}/README.md\n",
    "subdirs = [\n",
    "    f.name for f in os.scandir(PATH_UCR)\n",
    "    if f.is_dir() and f.name != ILL_FORMATED_DIR[:-1]\n",
    "]\n",
    "subdirs"
   ]
  },
  {
   "cell_type": "code",
   "execution_count": null,
   "metadata": {},
   "outputs": [],
   "source": [
    "all_datasets = []\n",
    "for d in subdirs:\n",
    "    all_datasets += [\n",
    "        f\"{d}/{fname}\"\n",
    "        for fname in os.listdir(PATH_UCR+d)\n",
    "        if \"TRAIN\" in fname\n",
    "    ]\n",
    "print(len(all_datasets))\n",
    "all_datasets\n"
   ]
  },
  {
   "cell_type": "code",
   "execution_count": null,
   "metadata": {},
   "outputs": [],
   "source": [
    "list_fname = f'{RES_DIR}all_datasets-{DATA_SOURCE}.txt'\n",
    "# write_list_datasets(list_fname, subdirs)"
   ]
  },
  {
   "cell_type": "code",
   "execution_count": null,
   "metadata": {},
   "outputs": [],
   "source": [
    "# print_heads(\n",
    "#     fnames=subdirs, path=PATH_UCR, n_labels_max=15, n_samples_max=3500,\n",
    "#     UCR = True,\n",
    "# )"
   ]
  },
  {
   "cell_type": "markdown",
   "metadata": {},
   "source": [
    "## Save list of datasets that are suitable for experiments"
   ]
  },
  {
   "cell_type": "code",
   "execution_count": null,
   "metadata": {},
   "outputs": [],
   "source": [
    "not_for_exp = UNKNOWN_K+TOO_MANY_LABELS+TOO_MANY_SAMPLES+INVALID\n",
    "\n",
    "fname_exp_theory = [\n",
    "    d for d in subdirs if d not in not_for_exp\n",
    "]\n",
    "\n",
    "print(len(fname_exp_theory))\n",
    "fname_exp_theory"
   ]
  },
  {
   "cell_type": "code",
   "execution_count": null,
   "metadata": {},
   "outputs": [],
   "source": [
    "exp_theory_list_fname = f'{RES_DIR}datasets_experiments_theory-{DATA_SOURCE}.txt'\n",
    "# write_list_datasets(exp_theory_list_fname, fname_exp_theory)"
   ]
  },
  {
   "cell_type": "code",
   "execution_count": null,
   "metadata": {},
   "outputs": [],
   "source": [
    "excluded = [d for d in subdirs if d in not_for_exp]\n",
    "excluded_list_fname = f'{RES_DIR}datasets_excluded-{DATA_SOURCE}.txt'\n",
    "# write_list_datasets(excluded_list_fname, excluded)"
   ]
  },
  {
   "cell_type": "markdown",
   "metadata": {},
   "source": [
    "## Saving data and labels"
   ]
  },
  {
   "cell_type": "code",
   "execution_count": null,
   "metadata": {},
   "outputs": [],
   "source": [
    "dataset_names = [\"SmallKitchenAppliances\", \"Trace\"]\n",
    "\n",
    "for d in dataset_names:\n",
    "\n",
    "    f = f\"{PATH_UCR_LOCAL}{get_fname(d, data_source=DATA_SOURCE)}\"\n",
    "    data, labels, n_labels, _ = get_data_labels_UCR(f, path=PATH_UCR_LOCAL)\n",
    "\n",
    "    data = data.squeeze()\n",
    "\n",
    "    pd.DataFrame(labels).to_csv(f\"./{d}_labels.csv\", header=False, index=False)\n",
    "    pd.DataFrame(data).to_csv(f\"./{d}_data.csv\", header=False, index=False)"
   ]
  }
 ],
 "metadata": {
  "kernelspec": {
   "display_name": "clusterexp-s4OGTNKW-py3.8",
   "language": "python",
   "name": "python3"
  },
  "language_info": {
   "codemirror_mode": {
    "name": "ipython",
    "version": 3
   },
   "file_extension": ".py",
   "mimetype": "text/x-python",
   "name": "python",
   "nbconvert_exporter": "python",
   "pygments_lexer": "ipython3",
   "version": "3.8.18"
  }
 },
 "nbformat": 4,
 "nbformat_minor": 2
}
